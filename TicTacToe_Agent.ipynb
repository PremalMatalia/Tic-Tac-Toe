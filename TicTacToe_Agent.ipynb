{
 "cells": [
  {
   "cell_type": "markdown",
   "metadata": {
    "colab_type": "text",
    "id": "rznSDgbvGggG"
   },
   "source": [
    "## Tic-Tac-Toe Agent\n",
    "In this notebook, you will learn to build an RL agent (using Q-learning) that learns to play Numerical Tic-Tac-Toe with odd numbers. The environment is playing randomly with the agent, i.e. its strategy is to put an even number randomly in an empty cell. The following is the layout of the notebook:\n",
    "\n",
    "        - Defining epsilon-greedy strategy\n",
    "        - Tracking state-action pairs for convergence\n",
    "        - Define hyperparameters for the Q-learning algorithm\n",
    "        - Generating episode and applying Q-update equation\n",
    "        - Checking convergence in Q-values"
   ]
  },
  {
   "cell_type": "markdown",
   "metadata": {
    "colab_type": "text",
    "id": "8eDb8PxBGggH"
   },
   "source": [
    "#### Importing libraries\n",
    "Write the code to import Tic-Tac-Toe class from the environment file"
   ]
  },
  {
   "cell_type": "code",
   "execution_count": 1,
   "metadata": {
    "colab": {},
    "colab_type": "code",
    "id": "6SFNYceFGggJ"
   },
   "outputs": [],
   "source": [
    "from TCGame_Env1 import TicTacToe # import your class from environment file\n",
    "import collections\n",
    "import numpy as np\n",
    "import random\n",
    "import pickle\n",
    "import time\n",
    "from matplotlib import pyplot as plt\n",
    "\n",
    "env = TicTacToe()"
   ]
  },
  {
   "cell_type": "code",
   "execution_count": 2,
   "metadata": {
    "colab": {},
    "colab_type": "code",
    "id": "wYLQyopEG8nz"
   },
   "outputs": [],
   "source": [
    "# Function to convert state array into a string to store it as keys in the dictionary\n",
    "# states in Q-dictionary will be of form: x-4-5-3-8-x-x-x-x\n",
    "#   x | 4 | 5\n",
    "#   ----------\n",
    "#   3 | 8 | x\n",
    "#   ----------\n",
    "#   x | x | x\n",
    "\n",
    "def Q_state(state):\n",
    "    return ('-'.join(str(e) for e in state)).replace('nan','x')"
   ]
  },
  {
   "cell_type": "code",
   "execution_count": 3,
   "metadata": {
    "colab": {},
    "colab_type": "code",
    "id": "ZebMOoiVHBBr"
   },
   "outputs": [],
   "source": [
    "# Defining a function which will return valid (all possible actions) actions corresponding to a state\n",
    "# Important to avoid errors during deployment.\n",
    "\n",
    "def valid_actions(state):\n",
    "\n",
    "    valid_Actions = []\n",
    "    \n",
    "    valid_Actions = [i for i in env.action_space(state)[0]] ###### -------please call your environment as env\n",
    "    return valid_Actions"
   ]
  },
  {
   "cell_type": "code",
   "execution_count": 4,
   "metadata": {
    "colab": {},
    "colab_type": "code",
    "id": "IRciPUkYHDWf"
   },
   "outputs": [],
   "source": [
    "# Defining a function which will add new Q-values to the Q-dictionary. \n",
    "def add_to_dict(state):\n",
    "    state1 = Q_state(state)\n",
    "    \n",
    "    valid_act = valid_actions(state)\n",
    "    if state1 not in Q_dict.keys():\n",
    "        for action in valid_act:\n",
    "            Q_dict[state1][action]=0"
   ]
  },
  {
   "cell_type": "markdown",
   "metadata": {
    "colab_type": "text",
    "id": "fNNi_EfHGggM"
   },
   "source": [
    "#### Epsilon-greedy strategy - Write your code here\n",
    "\n",
    "(you can build your epsilon-decay function similar to the one given at the end of the notebook)"
   ]
  },
  {
   "cell_type": "code",
   "execution_count": 5,
   "metadata": {
    "colab": {},
    "colab_type": "code",
    "id": "m0lMfqiJGggN"
   },
   "outputs": [],
   "source": [
    "# Defining epsilon-greedy policy. You can choose any function epsilon-decay strategy\n",
    "\n",
    "def epsilon_greedy(state, time):\n",
    "    epsilon = min_epsilon + (max_epsilon - min_epsilon) * np.exp(-decay_rate*time)\n",
    "    z = np.random.random()\n",
    "        \n",
    "    if z > epsilon:\n",
    "        state1 = Q_state(state)\n",
    "        action = max(Q_dict[state1],key=Q_dict[state1].get)   #Exploitation: this gets the action corresponding to max q-value of current state\n",
    "        esp_phase = 'Exploitation'\n",
    "    else:\n",
    "        possible_actions = [act for act in env.action_space(state)[0]]        \n",
    "        action = possible_actions[np.random.choice(range(len(possible_actions)))]    #Exploration: randomly choosing and action\n",
    "        esp_phase = 'Exploration'\n",
    "        #print(\"From Epsilon_greedy func:\",action)\n",
    "    return action, esp_phase"
   ]
  },
  {
   "cell_type": "markdown",
   "metadata": {
    "colab_type": "text",
    "id": "H2kyQHOMGggR"
   },
   "source": [
    "#### Tracking the state-action pairs for checking convergence - write your code here"
   ]
  },
  {
   "cell_type": "code",
   "execution_count": 6,
   "metadata": {
    "colab": {},
    "colab_type": "code",
    "id": "qcxZ29vdGggS"
   },
   "outputs": [],
   "source": [
    "# Initialise Q_dictionary as 'Q_dict' and States_tracked as 'States_track' (for convergence)\n",
    "Q_dict = collections.defaultdict(dict)\n",
    "States_track = collections.defaultdict(dict)"
   ]
  },
  {
   "cell_type": "code",
   "execution_count": 7,
   "metadata": {
    "colab": {},
    "colab_type": "code",
    "id": "vs73iv8fHOxV"
   },
   "outputs": [],
   "source": [
    "# Initialise states to be tracked\n",
    "sample_q_values  = [('1-2-x-x-x-x-x-x-x',(6,5)),('x-x-3-4-x-x-x-x-x',(1,9)),('x-x-x-x-5-6-x-x-x',(7,3)),('x-x-x-x-x-x-x-x-x',(8,1)),\n",
    "                    ('x-x-x-x-x-x-7-8-x',(9,7)),('1-2-3-4-x-x-x-x-x',(5,5))]    #select some 4 Q-values\n",
    "def initialise_tracking_states():\n",
    "        \n",
    "    for q_values in sample_q_values:\n",
    "        state  = q_values[0]\n",
    "        action = q_values[1]\n",
    "        States_track[state][action] = []  "
   ]
  },
  {
   "cell_type": "code",
   "execution_count": 8,
   "metadata": {
    "colab": {},
    "colab_type": "code",
    "id": "dAbwJDMVHpwl"
   },
   "outputs": [],
   "source": [
    "#Defining a function to save the Q-dictionary as a pickle file\n",
    "\n",
    "def save_obj(obj, name ):\n",
    "    with open(name + '.pkl', 'wb') as f:\n",
    "        pickle.dump(obj, f, pickle.HIGHEST_PROTOCOL)"
   ]
  },
  {
   "cell_type": "code",
   "execution_count": 9,
   "metadata": {
    "colab": {},
    "colab_type": "code",
    "id": "6Pyj7nMVHsBi"
   },
   "outputs": [],
   "source": [
    "def save_tracking_states():\n",
    "    for state in States_track.keys():\n",
    "        for action in States_track[state].keys():\n",
    "            if state in Q_dict and action in Q_dict[state]:\n",
    "                States_track[state][action].append(Q_dict[state][action])"
   ]
  },
  {
   "cell_type": "code",
   "execution_count": 10,
   "metadata": {
    "colab": {},
    "colab_type": "code",
    "id": "B_8xSluUHvew"
   },
   "outputs": [],
   "source": [
    "initialise_tracking_states()"
   ]
  },
  {
   "cell_type": "markdown",
   "metadata": {
    "colab_type": "text",
    "id": "-iPt--E9GggV"
   },
   "source": [
    "#### Define hyperparameters  ---write your code here"
   ]
  },
  {
   "cell_type": "code",
   "execution_count": 11,
   "metadata": {
    "colab": {},
    "colab_type": "code",
    "id": "G0_f5czFGggW"
   },
   "outputs": [],
   "source": [
    "#Defining parameters for the experiment\n",
    "\n",
    "EPISODES = 5000000\n",
    "LR    = 0.03               # learning rate\n",
    "GAMMA = 0.99                # discount factor\n",
    "\n",
    "max_epsilon = 1.0\n",
    "min_epsilon = 0.01\n",
    "decay_rate  = 0.00001     # epsilon decay rate\n",
    "threshold   = 10000         # no of episodes after which states_tracked wwill be saved\n",
    "policy_threshold = 20000    # no of episodes after which Q dictionary/table will be saved\n",
    "print_theshold   = 50000    # no of episodes after which print Win, loss and Tie count for this many episodes"
   ]
  },
  {
   "cell_type": "markdown",
   "metadata": {
    "colab_type": "text",
    "id": "Md6twJ7wGggh"
   },
   "source": [
    "### Q-update loop ---write your code here\n",
    "\n",
    "- Steps followed for every Episodes:\n",
    "1. Initialize states with 'nan' at the state of the Episode\n",
    "2. Start the loop till no Terminal state\n",
    "    - Calcuate Epsilon Greedy action \n",
    "    - Get the next State, reward and terminal state using env.step function\n",
    "    - Calculate Win, Loss or Tie score based on rewards if it's terminal state\n",
    "    - Calculate Q-value for current state \n",
    "    - Track the 4 states and save them at every threshold value\n",
    "    - Save Q_dict at every policy threshold value\n",
    "    - Printing elapse time, Win, Loss and Tie Count for every 10k episodes \n",
    "    - Reset Win, Loss and Tie count\n",
    "    \n",
    "3. Save final States_tracked and Q_dict after all the episodes"
   ]
  },
  {
   "cell_type": "markdown",
   "metadata": {},
   "source": [
    "## Analysis/Conclusion\n",
    "\n",
    "- Executed training for 5 Mn episodes\n",
    "- Till ~50K episodes, model was doing Exploration and after that it has started Exploitation \n",
    "- After 1 Mn episodes, model has converged\n",
    "- Model's winning ratio is ~92% of the games against Env having Random step strategy. \n",
    "\n",
    "Below is the outcome of last 50K games.\n",
    "##### Win: 46109  Loss: 1260  Tie: 2631  Win % 92.22"
   ]
  },
  {
   "cell_type": "code",
   "execution_count": 12,
   "metadata": {
    "colab": {},
    "colab_type": "code",
    "id": "ldCgQuDNGggj"
   },
   "outputs": [
    {
     "name": "stdout",
     "output_type": "stream",
     "text": [
      "Episodes completed:  50000  Time (min):  0.517  Epsilon Phase: Exploration  Win: 12649  Loss: 14169  Tie: 23182  Win % 25.3\n",
      "Episodes completed:  100000  Time (min):  1.007  Epsilon Phase: Exploitation  Win: 12980  Loss: 13878  Tie: 23142  Win % 25.96\n",
      "Episodes completed:  150000  Time (min):  1.466  Epsilon Phase: Exploitation  Win: 13492  Loss: 13563  Tie: 22945  Win % 26.98\n",
      "Episodes completed:  200000  Time (min):  1.951  Epsilon Phase: Exploitation  Win: 14608  Loss: 12967  Tie: 22425  Win % 29.22\n",
      "Episodes completed:  250000  Time (min):  2.397  Epsilon Phase: Exploitation  Win: 15160  Loss: 12822  Tie: 22018  Win % 30.32\n",
      "Episodes completed:  300000  Time (min):  2.867  Epsilon Phase: Exploitation  Win: 16040  Loss: 12463  Tie: 21497  Win % 32.08\n",
      "Episodes completed:  350000  Time (min):  3.325  Epsilon Phase: Exploitation  Win: 16728  Loss: 12089  Tie: 21183  Win % 33.46\n",
      "Episodes completed:  400000  Time (min):  3.85  Epsilon Phase: Exploitation  Win: 17559  Loss: 11786  Tie: 20655  Win % 35.12\n",
      "Episodes completed:  450000  Time (min):  4.31  Epsilon Phase: Exploitation  Win: 21741  Loss: 10122  Tie: 18137  Win % 43.48\n",
      "Episodes completed:  500000  Time (min):  4.736  Epsilon Phase: Exploitation  Win: 38630  Loss: 4017  Tie: 7353  Win % 77.26\n",
      "Episodes completed:  550000  Time (min):  5.106  Epsilon Phase: Exploitation  Win: 42478  Loss: 2670  Tie: 4852  Win % 84.96\n",
      "Episodes completed:  600000  Time (min):  5.506  Epsilon Phase: Exploitation  Win: 44095  Loss: 2066  Tie: 3839  Win % 88.19\n",
      "Episodes completed:  650000  Time (min):  5.876  Epsilon Phase: Exploitation  Win: 45195  Loss: 1567  Tie: 3238  Win % 90.39\n",
      "Episodes completed:  700000  Time (min):  6.281  Epsilon Phase: Exploitation  Win: 45579  Loss: 1470  Tie: 2951  Win % 91.16\n",
      "Episodes completed:  750000  Time (min):  6.654  Epsilon Phase: Exploitation  Win: 45759  Loss: 1378  Tie: 2863  Win % 91.52\n",
      "Episodes completed:  800000  Time (min):  7.075  Epsilon Phase: Exploitation  Win: 45934  Loss: 1351  Tie: 2715  Win % 91.87\n",
      "Episodes completed:  850000  Time (min):  7.442  Epsilon Phase: Exploitation  Win: 45920  Loss: 1301  Tie: 2779  Win % 91.84\n",
      "Episodes completed:  900000  Time (min):  7.863  Epsilon Phase: Exploitation  Win: 45951  Loss: 1327  Tie: 2722  Win % 91.9\n",
      "Episodes completed:  950000  Time (min):  8.271  Epsilon Phase: Exploitation  Win: 45894  Loss: 1360  Tie: 2746  Win % 91.79\n",
      "Episodes completed:  1000000  Time (min):  8.692  Epsilon Phase: Exploitation  Win: 45985  Loss: 1338  Tie: 2677  Win % 91.97\n",
      "Episodes completed:  1050000  Time (min):  9.077  Epsilon Phase: Exploitation  Win: 45695  Loss: 1333  Tie: 2972  Win % 91.39\n",
      "Episodes completed:  1100000  Time (min):  9.496  Epsilon Phase: Exploitation  Win: 46010  Loss: 1272  Tie: 2718  Win % 92.02\n",
      "Episodes completed:  1150000  Time (min):  9.884  Epsilon Phase: Exploitation  Win: 46059  Loss: 1289  Tie: 2652  Win % 92.12\n",
      "Episodes completed:  1200000  Time (min):  10.319  Epsilon Phase: Exploitation  Win: 46017  Loss: 1334  Tie: 2649  Win % 92.03\n",
      "Episodes completed:  1250000  Time (min):  10.698  Epsilon Phase: Exploitation  Win: 46072  Loss: 1255  Tie: 2673  Win % 92.14\n",
      "Episodes completed:  1300000  Time (min):  11.115  Epsilon Phase: Exploitation  Win: 46003  Loss: 1265  Tie: 2732  Win % 92.01\n",
      "Episodes completed:  1350000  Time (min):  11.48  Epsilon Phase: Exploitation  Win: 45901  Loss: 1351  Tie: 2748  Win % 91.8\n",
      "Episodes completed:  1400000  Time (min):  11.888  Epsilon Phase: Exploitation  Win: 46042  Loss: 1288  Tie: 2670  Win % 92.08\n",
      "Episodes completed:  1450000  Time (min):  12.264  Epsilon Phase: Exploitation  Win: 46060  Loss: 1339  Tie: 2601  Win % 92.12\n",
      "Episodes completed:  1500000  Time (min):  12.702  Epsilon Phase: Exploitation  Win: 45926  Loss: 1364  Tie: 2710  Win % 91.85\n",
      "Episodes completed:  1550000  Time (min):  13.106  Epsilon Phase: Exploitation  Win: 45968  Loss: 1383  Tie: 2649  Win % 91.94\n",
      "Episodes completed:  1600000  Time (min):  13.531  Epsilon Phase: Exploitation  Win: 45973  Loss: 1292  Tie: 2735  Win % 91.95\n",
      "Episodes completed:  1650000  Time (min):  13.937  Epsilon Phase: Exploitation  Win: 45980  Loss: 1343  Tie: 2677  Win % 91.96\n",
      "Episodes completed:  1700000  Time (min):  14.43  Epsilon Phase: Exploitation  Win: 46048  Loss: 1258  Tie: 2694  Win % 92.1\n",
      "Episodes completed:  1750000  Time (min):  14.826  Epsilon Phase: Exploitation  Win: 45985  Loss: 1281  Tie: 2734  Win % 91.97\n",
      "Episodes completed:  1800000  Time (min):  15.252  Epsilon Phase: Exploitation  Win: 45923  Loss: 1287  Tie: 2790  Win % 91.85\n",
      "Episodes completed:  1850000  Time (min):  15.634  Epsilon Phase: Exploitation  Win: 46015  Loss: 1313  Tie: 2672  Win % 92.03\n",
      "Episodes completed:  1900000  Time (min):  16.077  Epsilon Phase: Exploitation  Win: 45980  Loss: 1283  Tie: 2737  Win % 91.96\n",
      "Episodes completed:  1950000  Time (min):  16.469  Epsilon Phase: Exploitation  Win: 46057  Loss: 1310  Tie: 2633  Win % 92.11\n",
      "Episodes completed:  2000000  Time (min):  16.927  Epsilon Phase: Exploitation  Win: 45954  Loss: 1266  Tie: 2780  Win % 91.91\n",
      "Episodes completed:  2050000  Time (min):  17.322  Epsilon Phase: Exploitation  Win: 46016  Loss: 1267  Tie: 2717  Win % 92.03\n",
      "Episodes completed:  2100000  Time (min):  17.743  Epsilon Phase: Exploitation  Win: 45981  Loss: 1280  Tie: 2739  Win % 91.96\n",
      "Episodes completed:  2150000  Time (min):  18.125  Epsilon Phase: Exploitation  Win: 45880  Loss: 1274  Tie: 2846  Win % 91.76\n",
      "Episodes completed:  2200000  Time (min):  18.554  Epsilon Phase: Exploitation  Win: 46049  Loss: 1238  Tie: 2713  Win % 92.1\n",
      "Episodes completed:  2250000  Time (min):  18.94  Epsilon Phase: Exploitation  Win: 45935  Loss: 1284  Tie: 2781  Win % 91.87\n",
      "Episodes completed:  2300000  Time (min):  19.356  Epsilon Phase: Exploitation  Win: 45940  Loss: 1300  Tie: 2760  Win % 91.88\n",
      "Episodes completed:  2350000  Time (min):  19.744  Epsilon Phase: Exploitation  Win: 45967  Loss: 1273  Tie: 2760  Win % 91.93\n",
      "Episodes completed:  2400000  Time (min):  20.166  Epsilon Phase: Exploitation  Win: 46035  Loss: 1259  Tie: 2706  Win % 92.07\n",
      "Episodes completed:  2450000  Time (min):  20.555  Epsilon Phase: Exploitation  Win: 45991  Loss: 1284  Tie: 2725  Win % 91.98\n",
      "Episodes completed:  2500000  Time (min):  20.982  Epsilon Phase: Exploitation  Win: 45954  Loss: 1307  Tie: 2739  Win % 91.91\n",
      "Episodes completed:  2550000  Time (min):  21.377  Epsilon Phase: Exploitation  Win: 45922  Loss: 1286  Tie: 2792  Win % 91.84\n",
      "Episodes completed:  2600000  Time (min):  21.815  Epsilon Phase: Exploitation  Win: 45978  Loss: 1277  Tie: 2745  Win % 91.96\n",
      "Episodes completed:  2650000  Time (min):  22.225  Epsilon Phase: Exploitation  Win: 46070  Loss: 1233  Tie: 2697  Win % 92.14\n",
      "Episodes completed:  2700000  Time (min):  22.765  Epsilon Phase: Exploitation  Win: 45906  Loss: 1318  Tie: 2776  Win % 91.81\n",
      "Episodes completed:  2750000  Time (min):  23.306  Epsilon Phase: Exploitation  Win: 45940  Loss: 1345  Tie: 2715  Win % 91.88\n",
      "Episodes completed:  2800000  Time (min):  23.83  Epsilon Phase: Exploitation  Win: 46053  Loss: 1268  Tie: 2679  Win % 92.11\n",
      "Episodes completed:  2850000  Time (min):  24.22  Epsilon Phase: Exploitation  Win: 45939  Loss: 1335  Tie: 2726  Win % 91.88\n",
      "Episodes completed:  2900000  Time (min):  24.72  Epsilon Phase: Exploitation  Win: 46114  Loss: 1240  Tie: 2646  Win % 92.23\n",
      "Episodes completed:  2950000  Time (min):  25.131  Epsilon Phase: Exploitation  Win: 46084  Loss: 1270  Tie: 2646  Win % 92.17\n",
      "Episodes completed:  3000000  Time (min):  25.591  Epsilon Phase: Exploitation  Win: 46055  Loss: 1244  Tie: 2701  Win % 92.11\n",
      "Episodes completed:  3050000  Time (min):  26.006  Epsilon Phase: Exploitation  Win: 45944  Loss: 1392  Tie: 2664  Win % 91.89\n",
      "Episodes completed:  3100000  Time (min):  26.47  Epsilon Phase: Exploitation  Win: 46073  Loss: 1272  Tie: 2655  Win % 92.15\n",
      "Episodes completed:  3150000  Time (min):  26.92  Epsilon Phase: Exploitation  Win: 46031  Loss: 1305  Tie: 2664  Win % 92.06\n",
      "Episodes completed:  3200000  Time (min):  27.465  Epsilon Phase: Exploitation  Win: 46018  Loss: 1276  Tie: 2706  Win % 92.04\n",
      "Episodes completed:  3250000  Time (min):  27.908  Epsilon Phase: Exploitation  Win: 46029  Loss: 1277  Tie: 2694  Win % 92.06\n",
      "Episodes completed:  3300000  Time (min):  28.379  Epsilon Phase: Exploitation  Win: 46124  Loss: 1240  Tie: 2636  Win % 92.25\n",
      "Episodes completed:  3350000  Time (min):  28.829  Epsilon Phase: Exploitation  Win: 46036  Loss: 1290  Tie: 2674  Win % 92.07\n",
      "Episodes completed:  3400000  Time (min):  29.301  Epsilon Phase: Exploitation  Win: 46002  Loss: 1287  Tie: 2711  Win % 92.0\n",
      "Episodes completed:  3450000  Time (min):  29.733  Epsilon Phase: Exploitation  Win: 46098  Loss: 1251  Tie: 2651  Win % 92.2\n",
      "Episodes completed:  3500000  Time (min):  30.209  Epsilon Phase: Exploitation  Win: 46046  Loss: 1282  Tie: 2672  Win % 92.09\n",
      "Episodes completed:  3550000  Time (min):  30.677  Epsilon Phase: Exploitation  Win: 46029  Loss: 1328  Tie: 2643  Win % 92.06\n",
      "Episodes completed:  3600000  Time (min):  31.178  Epsilon Phase: Exploitation  Win: 46089  Loss: 1255  Tie: 2656  Win % 92.18\n",
      "Episodes completed:  3650000  Time (min):  31.612  Epsilon Phase: Exploitation  Win: 46050  Loss: 1246  Tie: 2704  Win % 92.1\n",
      "Episodes completed:  3700000  Time (min):  32.083  Epsilon Phase: Exploitation  Win: 45941  Loss: 1277  Tie: 2782  Win % 91.88\n",
      "Episodes completed:  3750000  Time (min):  32.53  Epsilon Phase: Exploitation  Win: 45985  Loss: 1308  Tie: 2707  Win % 91.97\n",
      "Episodes completed:  3800000  Time (min):  33.01  Epsilon Phase: Exploitation  Win: 46014  Loss: 1261  Tie: 2725  Win % 92.03\n",
      "Episodes completed:  3850000  Time (min):  33.423  Epsilon Phase: Exploitation  Win: 46066  Loss: 1227  Tie: 2707  Win % 92.13\n",
      "Episodes completed:  3900000  Time (min):  33.883  Epsilon Phase: Exploitation  Win: 46095  Loss: 1293  Tie: 2612  Win % 92.19\n",
      "Episodes completed:  3950000  Time (min):  34.282  Epsilon Phase: Exploitation  Win: 46048  Loss: 1299  Tie: 2653  Win % 92.1\n",
      "Episodes completed:  4000000  Time (min):  34.724  Epsilon Phase: Exploitation  Win: 46059  Loss: 1272  Tie: 2669  Win % 92.12\n",
      "Episodes completed:  4050000  Time (min):  35.138  Epsilon Phase: Exploitation  Win: 46082  Loss: 1224  Tie: 2694  Win % 92.16\n",
      "Episodes completed:  4100000  Time (min):  35.602  Epsilon Phase: Exploitation  Win: 46021  Loss: 1295  Tie: 2684  Win % 92.04\n",
      "Episodes completed:  4150000  Time (min):  36.003  Epsilon Phase: Exploitation  Win: 46000  Loss: 1308  Tie: 2692  Win % 92.0\n",
      "Episodes completed:  4200000  Time (min):  36.465  Epsilon Phase: Exploitation  Win: 46050  Loss: 1282  Tie: 2668  Win % 92.1\n",
      "Episodes completed:  4250000  Time (min):  36.862  Epsilon Phase: Exploitation  Win: 46002  Loss: 1280  Tie: 2718  Win % 92.0\n",
      "Episodes completed:  4300000  Time (min):  37.309  Epsilon Phase: Exploitation  Win: 46059  Loss: 1282  Tie: 2659  Win % 92.12\n",
      "Episodes completed:  4350000  Time (min):  37.697  Epsilon Phase: Exploitation  Win: 45947  Loss: 1303  Tie: 2750  Win % 91.89\n",
      "Episodes completed:  4400000  Time (min):  38.147  Epsilon Phase: Exploitation  Win: 46075  Loss: 1289  Tie: 2636  Win % 92.15\n",
      "Episodes completed:  4450000  Time (min):  38.557  Epsilon Phase: Exploitation  Win: 46013  Loss: 1265  Tie: 2722  Win % 92.03\n",
      "Episodes completed:  4500000  Time (min):  39.041  Epsilon Phase: Exploitation  Win: 45926  Loss: 1292  Tie: 2782  Win % 91.85\n",
      "Episodes completed:  4550000  Time (min):  39.452  Epsilon Phase: Exploitation  Win: 46025  Loss: 1331  Tie: 2644  Win % 92.05\n",
      "Episodes completed:  4600000  Time (min):  39.925  Epsilon Phase: Exploitation  Win: 46139  Loss: 1202  Tie: 2659  Win % 92.28\n",
      "Episodes completed:  4650000  Time (min):  40.348  Epsilon Phase: Exploitation  Win: 46163  Loss: 1217  Tie: 2620  Win % 92.33\n",
      "Episodes completed:  4700000  Time (min):  40.82  Epsilon Phase: Exploitation  Win: 46054  Loss: 1269  Tie: 2677  Win % 92.11\n",
      "Episodes completed:  4750000  Time (min):  41.233  Epsilon Phase: Exploitation  Win: 46043  Loss: 1245  Tie: 2712  Win % 92.09\n",
      "Episodes completed:  4800000  Time (min):  41.687  Epsilon Phase: Exploitation  Win: 45951  Loss: 1315  Tie: 2734  Win % 91.9\n",
      "Episodes completed:  4850000  Time (min):  42.099  Epsilon Phase: Exploitation  Win: 46150  Loss: 1148  Tie: 2702  Win % 92.3\n",
      "Episodes completed:  4900000  Time (min):  42.549  Epsilon Phase: Exploitation  Win: 46083  Loss: 1259  Tie: 2658  Win % 92.17\n",
      "Episodes completed:  4950000  Time (min):  42.941  Epsilon Phase: Exploitation  Win: 46058  Loss: 1250  Tie: 2692  Win % 92.12\n",
      "Episodes completed:  5000000  Time (min):  43.361  Epsilon Phase: Exploitation  Win: 46109  Loss: 1260  Tie: 2631  Win % 92.22\n",
      "Total Time (min): 43.361\n"
     ]
    }
   ],
   "source": [
    "start_time = time.time()\n",
    "\n",
    "##To keep track of how many games are won/lost by Agent after every few episodes\n",
    "agent_win =0\n",
    "agent_loss = 0\n",
    "tie = 0\n",
    "exploration  =0\n",
    "exploitation =0 \n",
    "\n",
    "for episode in range(EPISODES):\n",
    "\n",
    "    ##### Start writing your code from the next line\n",
    "    env = TicTacToe() # creating an instance of the environment\n",
    "    curr_state = env.state    \n",
    "    #print(\"initial_state:\",curr_state)\n",
    "    \n",
    "    add_to_dict(curr_state)  # adding the current state to dictionary\n",
    "    done = False  \n",
    "    \n",
    "    while done != True:  \n",
    "        curr_state_temp = Q_state(curr_state)\n",
    "           \n",
    "        curr_action,esp_phase = epsilon_greedy(curr_state, episode)  # applying epislon method\n",
    "        if esp_phase=='Exploitation':\n",
    "            exploitation +=1\n",
    "        else:\n",
    "            exploration +=1            \n",
    "               \n",
    "        next_state, reward, done = env.step(curr_state, curr_action) # Get Next State , Rewards and check if Game is over or can continue\n",
    "       \n",
    "        add_to_dict(next_state)\n",
    "        next_state_temp = Q_state(next_state)\n",
    "        \n",
    "        ## Checking if it's win, loss or tie for agent and couting the same\n",
    "        if done==True:\n",
    "            if reward == 10:\n",
    "                agent_win+=1\n",
    "            elif reward == -10:\n",
    "                agent_loss+=1\n",
    "            else:\n",
    "                tie +=1\n",
    "        \n",
    "        # Calculate Q-value for current state \n",
    "        if done != True:\n",
    "            max_next = max(Q_dict[next_state_temp],key=Q_dict[next_state_temp].get)  \n",
    "                        \n",
    "            #this gets the action corresponding to max q-value of next state\n",
    "            Q_dict[curr_state_temp][curr_action] += LR * ((reward + (GAMMA*(Q_dict[next_state_temp][max_next]))) - Q_dict[curr_state_temp][curr_action]) \n",
    "        else:\n",
    "            Q_dict[curr_state_temp][curr_action] += LR * ((reward - Q_dict[curr_state_temp][curr_action]))\n",
    "\n",
    "        # navigating to next state\n",
    "        curr_state = next_state  #state(t) became state(t-1)\n",
    "        \n",
    "    #states tracking   \n",
    "    if ((episode+1)%threshold)==0:\n",
    "        save_tracking_states()\n",
    "        save_obj(States_track,'States_tracking')\n",
    "\n",
    "    if ((episode+1)% policy_threshold) == 0:  #At every policy threshold, the Q-dict will be saved\n",
    "        save_obj(Q_dict,'Policy_Q_dict')  \n",
    "        \n",
    "    ## Print How many episodes are completed with Elapsed time, Win, Loss and Tie Ratio and Exploration/Exploitation phase (based on max count)    \n",
    "    if ((episode+1)%print_theshold == 0):\n",
    "        if exploitation > exploration:\n",
    "            esp_phase='Exploitation'\n",
    "        else:\n",
    "            esp_phase='Exploration'\n",
    "            \n",
    "        print(\"Episodes completed: \",(episode+1),\" Time (min): \",round((time.time()-start_time)/60,3),\" Epsilon Phase:\",esp_phase,\" Win:\",agent_win,\" Loss:\",agent_loss,\n",
    "              \" Tie:\",tie,\" Win %\",round(agent_win/(agent_win+agent_loss+tie)*100,2))\n",
    "        agent_win   =0\n",
    "        agent_loss  =0\n",
    "        tie         =0\n",
    "        exploitation=0\n",
    "        exploration =0\n",
    "    \n",
    "    \n",
    "elapsed_time = round((time.time() - start_time)/60,3)\n",
    "print(\"Total Time (min):\" ,elapsed_time)\n",
    "\n",
    "save_obj(States_track,'States_tracked')   \n",
    "save_obj(Q_dict,'Policy')"
   ]
  },
  {
   "cell_type": "markdown",
   "metadata": {
    "colab_type": "text",
    "id": "t6eMFbb8Ggg2"
   },
   "source": [
    "#### Check the Q-dictionary"
   ]
  },
  {
   "cell_type": "code",
   "execution_count": 13,
   "metadata": {
    "colab": {},
    "colab_type": "code",
    "id": "F1tnDJWkGgg9"
   },
   "outputs": [
    {
     "data": {
      "text/plain": [
       "928329"
      ]
     },
     "execution_count": 13,
     "metadata": {},
     "output_type": "execute_result"
    }
   ],
   "source": [
    "len(Q_dict)"
   ]
  },
  {
   "cell_type": "code",
   "execution_count": 14,
   "metadata": {
    "colab": {},
    "colab_type": "code",
    "id": "cFgUqfcQGghB"
   },
   "outputs": [],
   "source": [
    "# try checking for one of the states - that which action your agent thinks is the best  -----This will not be evaluated"
   ]
  },
  {
   "cell_type": "markdown",
   "metadata": {
    "colab_type": "text",
    "id": "KGPZEQDFGghG"
   },
   "source": [
    "#### Check the states tracked for Q-values convergence\n",
    "(non-evaluative)"
   ]
  },
  {
   "cell_type": "code",
   "execution_count": 15,
   "metadata": {
    "colab": {},
    "colab_type": "code",
    "id": "9s1Tvz8HGghH"
   },
   "outputs": [],
   "source": [
    "# Write the code for plotting the graphs for state-action pairs tracked\n",
    "#States_track"
   ]
  },
  {
   "cell_type": "code",
   "execution_count": 16,
   "metadata": {
    "colab": {},
    "colab_type": "code",
    "id": "pVQInsg7GghL"
   },
   "outputs": [
    {
     "data": {
      "text/plain": [
       "<function matplotlib.pyplot.show(*args, **kw)>"
      ]
     },
     "execution_count": 16,
     "metadata": {},
     "output_type": "execute_result"
    },
    {
     "data": {
      "image/png": "[encoded data removed]",
      "text/plain": [
       "<Figure size 1152x504 with 4 Axes>"
      ]
     },
     "metadata": {
      "needs_background": "light"
     },
     "output_type": "display_data"
    }
   ],
   "source": [
    "plt.figure(0, figsize=(16,7))\n",
    "\n",
    "x_axis = np.asarray(range(0, len(States_track[sample_q_values[0][0]][sample_q_values[0][1]])))\n",
    "#x_axis = np.asarray(range(0,EPISODES//threshold))\n",
    "plt.subplot(221)\n",
    "plt.plot(x_axis,np.asarray(States_track[sample_q_values[0][0]][sample_q_values[0][1]]))\n",
    "plt.title(\"Queue Value: \"+str(sample_q_values[0]))\n",
    "plt.show\n",
    "\n",
    "x_axis = np.asarray(range(0, len(States_track[sample_q_values[1][0]][sample_q_values[1][1]])))\n",
    "plt.subplot(222)\n",
    "plt.plot(x_axis,np.asarray(States_track[sample_q_values[1][0]][sample_q_values[1][1]]))\n",
    "plt.title(\"Queue Value: \"+str(sample_q_values[1]))\n",
    "plt.show\n",
    "\n",
    "x_axis = np.asarray(range(0, len(States_track[sample_q_values[2][0]][sample_q_values[2][1]])))\n",
    "plt.subplot(223)\n",
    "plt.plot(x_axis,np.asarray(States_track[sample_q_values[2][0]][sample_q_values[2][1]]))\n",
    "plt.title(\"Queue Value: \"+str(sample_q_values[2]))\n",
    "plt.show\n",
    "\n",
    "x_axis = np.asarray(range(0, len(States_track[sample_q_values[3][0]][sample_q_values[3][1]])))\n",
    "plt.subplot(224)\n",
    "plt.plot(x_axis,np.asarray(States_track[sample_q_values[3][0]][sample_q_values[3][1]]))\n",
    "plt.title(\"Queue Value: \"+str(sample_q_values[3]))\n",
    "plt.show"
   ]
  },
  {
   "cell_type": "markdown",
   "metadata": {
    "colab_type": "text",
    "id": "b2Opp8_NITkC"
   },
   "source": [
    "### Epsilon - decay check"
   ]
  },
  {
   "cell_type": "code",
   "execution_count": 17,
   "metadata": {
    "colab": {},
    "colab_type": "code",
    "id": "gQ_D_JsuGghR"
   },
   "outputs": [
    {
     "data": {
      "image/png": "[encoded data removed]",
      "text/plain": [
       "<Figure size 432x288 with 1 Axes>"
      ]
     },
     "metadata": {
      "needs_background": "light"
     },
     "output_type": "display_data"
    }
   ],
   "source": [
    "time = np.arange(0,EPISODES)\n",
    "epsilon = []\n",
    "for i in range(0,EPISODES):\n",
    "    epsilon.append(min_epsilon + (max_epsilon - min_epsilon) * np.exp(-decay_rate*i))\n",
    "    \n",
    "plt.plot(time, epsilon)\n",
    "plt.show()"
   ]
  },
  {
   "cell_type": "code",
   "execution_count": null,
   "metadata": {
    "colab": {
     "base_uri": "https://localhost:8080/",
     "height": 347
    },
    "colab_type": "code",
    "id": "J7c2xADQGghV",
    "outputId": "cb60fce3-570b-45fb-bd83-abde3d13b273"
   },
   "outputs": [],
   "source": []
  },
  {
   "cell_type": "code",
   "execution_count": null,
   "metadata": {
    "colab": {},
    "colab_type": "code",
    "id": "59BRf43IJiQ1"
   },
   "outputs": [],
   "source": []
  }
 ],
 "metadata": {
  "colab": {
   "collapsed_sections": [],
   "name": "TicTacToe_Agent.ipynb",
   "provenance": [],
   "version": "0.3.2"
  },
  "kernelspec": {
   "display_name": "Python 3",
   "language": "python",
   "name": "python3"
  },
  "language_info": {
   "codemirror_mode": {
    "name": "ipython",
    "version": 3
   },
   "file_extension": ".py",
   "mimetype": "text/x-python",
   "name": "python",
   "nbconvert_exporter": "python",
   "pygments_lexer": "ipython3",
   "version": "3.7.4"
  }
 },
 "nbformat": 4,
 "nbformat_minor": 4
}
